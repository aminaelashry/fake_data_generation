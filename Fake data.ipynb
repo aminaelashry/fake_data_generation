{
 "cells": [
  {
   "cell_type": "code",
   "execution_count": null,
   "id": "6f759c6e-da2d-4cb6-a200-d9f883af0f9b",
   "metadata": {},
   "outputs": [],
   "source": [
    "\"\"\"\n",
    "Write a Python notebook that generates a file containing the following data:​ ​\n",
    "    Email addresses​. Must have an \"@\"\n",
    "    Phone numbers​\n",
    "    Home Address​\n",
    "    Person's name​\n",
    "    Year born. Use realistic values.​\n",
    "    Number of kids. Use realistic values.​\n",
    "    Categorical variable: rent or own?​\n",
    "    Annual income. Optional challenge: Use a non-uniform distribution​\n",
    "    Number of speeding tickets in past year. Optional challenge: Use a non-uniform distribution​\n",
    "The user of your notebook should be able to specify how many entities are to be generated.​ ​\n",
    "Order of columns in CSV is not relevant. ​\n",
    "\"\"\"\n",
    "\n",
    "#all fake data generation functions used in this assignment come from Faker python package. documentation: https://faker.readthedocs.io/en/master/\n",
    "#Faker is a python package which helps generate different types of fake data \n",
    "\n",
    "#importing Faker python package\n",
    "from faker import Faker \n",
    "\n",
    "#importing csv package to write data to csv file\n",
    "import csv \n",
    "\n",
    "#importing pandas library to create categorical variables \n",
    "import pandas as pd\n",
    "\n",
    "#importing random library to generate random variables \n",
    "import random\n",
    "\n",
    "#initialing a faker generator \n",
    "fake = Faker() "
   ]
  },
  {
   "cell_type": "code",
   "execution_count": 214,
   "id": "1877ee71-d79a-4470-9f5d-94f9d0e95cd3",
   "metadata": {},
   "outputs": [
    {
     "name": "stdout",
     "output_type": "stream",
     "text": [
      "How many data entries would you like? Please enter a number. 150\n"
     ]
    }
   ],
   "source": [
    "#getting the number of data entries from the user \n",
    "data_entries = input(\"How many data entries would you like? Please enter a number.\")"
   ]
  },
  {
   "cell_type": "code",
   "execution_count": 215,
   "id": "c8ebda3e-4f6f-46b5-9bbc-7cadd743d5de",
   "metadata": {},
   "outputs": [],
   "source": [
    "#creating csv file path \n",
    "csv_file = \"fake_data.csv\" "
   ]
  },
  {
   "cell_type": "code",
   "execution_count": 216,
   "id": "30f2a3f5-4f39-4426-b40a-3b57cba98478",
   "metadata": {},
   "outputs": [],
   "source": [
    "#function to generate email addresses \n",
    "def email(num_of_entries):\n",
    "    email_list = [] #initializing an empty list \n",
    "    int_num_of_entries = int(num_of_entries) #confirming parameter is an integer \n",
    "    #generating fake email addresses based on number of data fields specified \n",
    "    for x in range(int_num_of_entries):\n",
    "        #using .email() function from Faker library \n",
    "        email_list.append(fake.email()) #adding every newly generated email to the email list \n",
    "    return email_list #returning list of emails \n",
    "\n",
    "#function to generate phone numbers \n",
    "def phone_num(num_of_entries):\n",
    "    phone_num_list = [] #initializing an empty list \n",
    "    int_num_of_entries = int(num_of_entries) #confirming parameter is an integer \n",
    "    #generating fake phone numbers based on number of data fields specified \n",
    "    for x in range(int_num_of_entries):\n",
    "        #using .phone_number() function from Faker library \n",
    "        phone_num_list.append(fake.phone_number()) #adding every newly generated phone number to the phone number list \n",
    "    return phone_num_list #returning list of phone numbers \n",
    "\n",
    "#function to generate home addresses \n",
    "def home_address(num_of_entries):\n",
    "    home_add_list = [] #initializing an empty list \n",
    "    int_num_of_entries = int(num_of_entries) #confirming parameter is an integer \n",
    "    for x in range(int_num_of_entries):\n",
    "        #using .address() function from Faker library \n",
    "        home_add_list.append(fake.address()) #adding every newly generated address to the address list \n",
    "    return home_add_list #returning list of addresses  \n",
    "\n",
    "#function to generate full names \n",
    "def full_name(num_of_entries):\n",
    "    full_name_list = [] #initializing an empty list \n",
    "    int_num_of_entries = int(num_of_entries) #confirming parameter is an integer \n",
    "    for x in range(int_num_of_entries):\n",
    "        #using .name() function from Faker library \n",
    "        full_name_list.append(fake.name()) #adding every newly generated full name to the name list \n",
    "    return full_name_list #returning list of full names  \n",
    "\n",
    "#function to generate birth year \n",
    "def birth_year(num_of_entries):\n",
    "    birth_year_list = [] #initializing an empty list \n",
    "    int_num_of_entries = int(num_of_entries) #confirming parameter is an integer \n",
    "    for x in range(int_num_of_entries):\n",
    "        birth_year_list.append(fake.random_int(min=1920, max=2024)) #generating a random integer between the specified year values \n",
    "    return birth_year_list #returning list of birth years  \n",
    "\n",
    "#function to generate number of kids \n",
    "def num_of_kids(num_of_entries):\n",
    "    num_of_kids_list = [] #initializing an empty list \n",
    "    int_num_of_entries = int(num_of_entries) #confirming parameter is an integer \n",
    "    for x in range(int_num_of_entries):\n",
    "        num_of_kids_list.append(fake.random_int(min=0, max=10)) #generating a random integer between the specified values \n",
    "    return num_of_kids_list #returning list of kid totals  \n",
    "\n",
    "#function to generate housing status \n",
    "def housing(num_of_entries):\n",
    "    housing_list = [] #initializing an empty list \n",
    "    int_num_of_entries = int(num_of_entries) #confirming parameter is an integer \n",
    "    housing_status = pd.Series([\"rent\", \"own\"]) #creating categorical variable using pandas Series. source: https://pandas.pydata.org/docs/dev/user_guide/categorical.html\n",
    "    for x in range(int_num_of_entries):\n",
    "        housing_list.append(random.choice(housing_status)) #randomly selecting a value from series \n",
    "    return housing_list #returning list of housing statuses  \n",
    "\n",
    "#function to generate annual income \n",
    "def annual_income(num_of_entries):\n",
    "    income_list = [] #initializing an empty list \n",
    "    int_num_of_entries = int(num_of_entries) #confirming parameter is an integer \n",
    "    for x in range(int_num_of_entries):\n",
    "        income_list.append(fake.random_int(min=10000, max=1000000)) #generating a random integer between the specified values \n",
    "    return income_list #returning list of annual incomes  \n",
    "\n",
    "#function to generate number of speeding tickets \n",
    "def num_of_tickets(num_of_entries):\n",
    "    num_of_tickets_list = [] #initializing an empty list \n",
    "    int_num_of_entries = int(num_of_entries) #confirming parameter is an integer \n",
    "    for x in range(int_num_of_entries):\n",
    "        num_of_tickets_list.append(fake.random_int(min=0, max=50)) #generating a random integer between the specified values \n",
    "    return num_of_tickets_list #returning list of speeding ticket totals  "
   ]
  },
  {
   "cell_type": "code",
   "execution_count": 217,
   "id": "68ca4311-ff9b-4266-a72f-c96fdb6adae5",
   "metadata": {},
   "outputs": [],
   "source": [
    "#calling email function to generate list of emails. assigning output to variable \n",
    "email_list = email(data_entries) "
   ]
  },
  {
   "cell_type": "code",
   "execution_count": 218,
   "id": "b61c5e63-b843-4164-9367-d48ea6a3226f",
   "metadata": {},
   "outputs": [],
   "source": [
    "#calling phone number function to generate list of phone numbers. assigning output to variable \n",
    "phone_list = phone_num(data_entries) "
   ]
  },
  {
   "cell_type": "code",
   "execution_count": 219,
   "id": "7b38ffae-b669-4c63-9cbd-342e97105fad",
   "metadata": {},
   "outputs": [],
   "source": [
    "#calling address function to generate list of addresses. assigning output to variable \n",
    "address_list = home_address(data_entries)"
   ]
  },
  {
   "cell_type": "code",
   "execution_count": 220,
   "id": "16a3ed5b-382f-4956-9533-66543a1d6d10",
   "metadata": {},
   "outputs": [],
   "source": [
    "#calling name function to generate list of full names. assigning output to variable \n",
    "name_list = full_name(data_entries) "
   ]
  },
  {
   "cell_type": "code",
   "execution_count": 221,
   "id": "dee7c3ad-dce2-4dcb-b2d0-555d852fc80f",
   "metadata": {},
   "outputs": [],
   "source": [
    "#calling birth year function to generate list of birth years. assigning output to variable \n",
    "year_list = birth_year(data_entries)"
   ]
  },
  {
   "cell_type": "code",
   "execution_count": 222,
   "id": "f0e93e1e-d829-46b2-9127-9e736c0cbb76",
   "metadata": {},
   "outputs": [],
   "source": [
    "#calling number of kids function to generate list of kid totals. assigning output to variable \n",
    "kids_list = num_of_kids(data_entries)"
   ]
  },
  {
   "cell_type": "code",
   "execution_count": 223,
   "id": "381bc6a1-2042-4379-aec2-7d1f7b790499",
   "metadata": {},
   "outputs": [],
   "source": [
    "#calling housing status function to generate list of housing statuses. assigning output to variable \n",
    "housing_list = housing(data_entries)"
   ]
  },
  {
   "cell_type": "code",
   "execution_count": 224,
   "id": "3281578f-52ad-47f4-9ea6-a9fbf8e48bec",
   "metadata": {},
   "outputs": [],
   "source": [
    "#calling income function to generate list of annual incomes. assigning output to variable \n",
    "income_list = annual_income(data_entries) "
   ]
  },
  {
   "cell_type": "code",
   "execution_count": 225,
   "id": "262b9c66-873b-47fc-8bec-5e9c68967129",
   "metadata": {},
   "outputs": [],
   "source": [
    "#calling number of tickets function to generate list of ticket totals. assigning output to variable \n",
    "tickets_list = num_of_tickets(data_entries) "
   ]
  },
  {
   "cell_type": "code",
   "execution_count": 226,
   "id": "4b8e3c4c-c82a-44d9-ab92-a293be08f14c",
   "metadata": {},
   "outputs": [],
   "source": [
    "#creating a list of headers for .csv file \n",
    "fields = [\"Email address\", \"Phone number\", \"Address\", \"Name\", \"Birth year\", \"Number of kids\", \"Housing status\", \"Annual income\", \"Number of speeding tickets\"]\n",
    "\n",
    "#aggregating all data field lists using zip function. source of zip function - https://blog.hubspot.com/website/python-zip\n",
    "rows = zip(email_list, phone_list, address_list, name_list, year_list, kids_list, housing_list, income_list, tickets_list)\n",
    "\n",
    "#writing data to csv file in write mode  \n",
    "#source used: https://www.geeksforgeeks.org/working-csv-files-python/#writing-to-a-csv-file\n",
    "with open(csv_file, 'w') as csvfile:\n",
    "    writer = csv.writer(csvfile) #creating csv writer object \n",
    "    writer.writerow(fields) #writing header row\n",
    "    writer.writerows(rows) #writing all data fields to their appropriate columns "
   ]
  }
 ],
 "metadata": {
  "kernelspec": {
   "display_name": "Python 3 (ipykernel)",
   "language": "python",
   "name": "python3"
  },
  "language_info": {
   "codemirror_mode": {
    "name": "ipython",
    "version": 3
   },
   "file_extension": ".py",
   "mimetype": "text/x-python",
   "name": "python",
   "nbconvert_exporter": "python",
   "pygments_lexer": "ipython3",
   "version": "3.12.4"
  }
 },
 "nbformat": 4,
 "nbformat_minor": 5
}
